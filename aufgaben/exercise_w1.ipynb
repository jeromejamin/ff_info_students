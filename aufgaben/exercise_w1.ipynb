{
 "cells": [
  {
   "cell_type": "markdown",
   "source": [
    "# Exercise - W2"
   ],
   "metadata": {}
  },
  {
   "cell_type": "markdown",
   "source": [
    "\n",
    "## Fragen und Antworten\n",
    "\n",
    "### Teil 1\n",
    "\n",
    "* Erstelle auf deinem Gerät eine Datei mit dem Namen: `<datum>_q-a_<yourname>.py`\n",
    "* Erstelle ein Consolen Programm, welches dem User 15 Fragen stellt und die Antworten jeweils wieder ausgibt bzw. die Antworten in eine nächste Frage einbaut. Es dürfen sinnvolle aber auch völlig sinnfreie Fragen gestellt werden. Die Antworten speicherst du dann in eine Variable.\n",
    "    * Verwende dazu: \n",
    "        * die Built-in Funktion `input()` und `print()`\n",
    "        * f-Strings: `f\"Hallo {name}\"`\n",
    "\n",
    "**Hinweis**\n",
    "\n",
    "Um das Programm zu starten, öffnest du die Powershell und navigierst in den Ordner mit deinem Python Programm und führst folgenden Befehl aus:\n",
    "\n",
    "```bash\n",
    "python <datum>_q-a_<yourname>.py\n",
    "```\n",
    "\n",
    "**Beispiel**"
   ],
   "metadata": {}
  },
  {
   "cell_type": "code",
   "execution_count": 2,
   "source": [
    "print(\"Was ist der Name deines Haustieres?\")\n",
    "pet_name = input(\">\")\n",
    "print(f\"{pet_name} ist ein schöner Name, was für ein Haustier hast du?\")\n",
    "pet_type = input(\">\")\n",
    "\n",
    "# to be continued"
   ],
   "outputs": [
    {
     "output_type": "stream",
     "name": "stdout",
     "text": [
      "Was ist der Name deines Haustieres?\n",
      " ist ein schöner Name, was für ein Haustier hast du?\n"
     ]
    }
   ],
   "metadata": {}
  },
  {
   "cell_type": "markdown",
   "source": [
    "### Teil 2\n",
    "\n",
    "Erstelle nun mit den Antworten eine lustige Geschichte, welche du dann mit `print()` ausgibst. Füge dazu die Antwort Variablen mit der Hilfe von f-Strings in deinen Text ein.\n"
   ],
   "metadata": {}
  }
 ],
 "metadata": {
  "orig_nbformat": 4,
  "language_info": {
   "name": "python",
   "version": "3.9.6",
   "mimetype": "text/x-python",
   "codemirror_mode": {
    "name": "ipython",
    "version": 3
   },
   "pygments_lexer": "ipython3",
   "nbconvert_exporter": "python",
   "file_extension": ".py"
  },
  "kernelspec": {
   "name": "python3",
   "display_name": "Python 3.9.6 64-bit"
  },
  "interpreter": {
   "hash": "767d51c1340bd893661ea55ea3124f6de3c7a262a8b4abca0554b478b1e2ff90"
  }
 },
 "nbformat": 4,
 "nbformat_minor": 2
}