{
 "cells": [
  {
   "cell_type": "markdown",
   "source": [
    "# Exercise - W2"
   ],
   "metadata": {}
  },
  {
   "cell_type": "markdown",
   "source": [
    "\n",
    "## Text Adventure Game\n",
    "\n",
    "Erstelle ein Text Adventure Game, welches pro Szene verschiedene mögliche Handlungen vorgibt. Basierend auf der Auswahl des Users, zeigt das Programm nun eine andere Szene mit neuen Handlungen an.\n",
    "\n",
    "Bedingungen:\n",
    "* Pro Szene soll es mindestens drei Handlungen haben\n",
    "* Pro Szene muss mindestens eine Handlung weiter führen\n",
    "* Du kannst das angefügte Beispiel weiterführen, oder du kannst eine eigene Geschichte erfinden\n",
    "* Im Game soll verschiedene Szenen geben, wo der User ein Rätsel lösen soll. Verwende dazu einen `while` Loop\n",
    "* Definiere pro Szene eine Funktion, damit du eine Szene auch mehrmals verwenden kannst\n",
    "\n",
    "**Hinweis**\n",
    "\n",
    "Um das Programm zu starten, öffnest du die Powershell und navigierst in den Ordner mit deinem Python Programm und führst folgenden Befehl aus:\n",
    "\n",
    "```bash\n",
    "python <datum>_adventure-game_<yourname>.py\n",
    "```\n",
    "\n",
    "**Beispiel**"
   ],
   "metadata": {}
  },
  {
   "cell_type": "code",
   "execution_count": 2,
   "source": [
    "def scene_one(player_name):\n",
    "\n",
    "    print(f\"\"\"\n",
    "    Hallo {player_name}\n",
    "    Du stehst auf einer Wiese und vor dir ist ein einzelner, efeubewachsener Turm.\n",
    "    Am Fusse des Turmes ist eine Türe. Etwas oberhalb findest du ein \n",
    "    geöffnetes Fenster. Um den Turm herum führt ein Weg, welcher zu \n",
    "    einem Wald führt.\n",
    "\n",
    "    Was wirst du als nächstes tun?\n",
    "\n",
    "    \\tknock door - An der Türe klopfen\n",
    "    \\tclimb window - Durchs Fenster klettern\n",
    "    \\twalk around - Um den Turm herum laufen\n",
    "    \"\"\")\n",
    "\n",
    "    done = False\n",
    "    \n",
    "    while not done:\n",
    "        user_input = input(\"> \")\n",
    "        if user_input == 'knock door':\n",
    "            scene_two()\n",
    "            done = True\n",
    "        elif user_input == 'climb window':\n",
    "            scene_three()\n",
    "            done = True\n",
    "        elif user_input == 'walk around':\n",
    "            scene_four()\n",
    "            done = True\n",
    "        else:\n",
    "            print(\"\"\"\n",
    "            Du hast etwas falsch gemacht, versuchs nochmal!\n",
    "            \"\"\")\n",
    "\n",
    "def scene_two():\n",
    "    print(\"\"\"\n",
    "    Du gehst auf die Türe zu und klopfst dreimal.\n",
    "    ...\n",
    "    \"\"\")\n",
    "\n",
    "def scene_three():\n",
    "    print(\"\"\"\n",
    "    Du kletterst am Efeu hinauf zum Fenster.\n",
    "    ...\n",
    "    \"\"\")\n",
    "\n",
    "def scene_four():\n",
    "    print(\"\"\"\n",
    "    Langsam gehst du um den Turm herum.\n",
    "    ...\n",
    "    \"\"\")\n",
    "\n",
    "# ask user for name\n",
    "print('wie heisst du?')\n",
    "player_name = input(\"> \")\n",
    "\n",
    "\n",
    "# start game\n",
    "scene_one(player_name)"
   ],
   "outputs": [
    {
     "output_type": "stream",
     "name": "stdout",
     "text": [
      "Was ist der Name deines Haustieres?\n",
      " ist ein schöner Name, was für ein Haustier hast du?\n"
     ]
    }
   ],
   "metadata": {}
  },
  {
   "cell_type": "markdown",
   "source": [
    "### Teil 2\n",
    "\n",
    "Erstelle nun mit den Antworten eine lustige Geschichte, welche du dann mit `print()` ausgibst. Füge dazu die Antwort Variablen mit der Hilfe von f-Strings in deinen Text ein.\n"
   ],
   "metadata": {}
  }
 ],
 "metadata": {
  "orig_nbformat": 4,
  "language_info": {
   "name": "python",
   "version": "3.9.6",
   "mimetype": "text/x-python",
   "codemirror_mode": {
    "name": "ipython",
    "version": 3
   },
   "pygments_lexer": "ipython3",
   "nbconvert_exporter": "python",
   "file_extension": ".py"
  },
  "kernelspec": {
   "name": "python3",
   "display_name": "Python 3.9.6 64-bit"
  },
  "interpreter": {
   "hash": "767d51c1340bd893661ea55ea3124f6de3c7a262a8b4abca0554b478b1e2ff90"
  }
 },
 "nbformat": 4,
 "nbformat_minor": 2
}