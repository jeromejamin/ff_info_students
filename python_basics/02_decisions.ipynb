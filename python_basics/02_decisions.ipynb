{
 "cells": [
  {
   "cell_type": "markdown",
   "source": [
    "# 02 - Decisions"
   ],
   "metadata": {}
  },
  {
   "cell_type": "markdown",
   "source": [
    "## if, elif, else\n",
    "\n",
    "* Mit der Hilfe von `if` , `elif` , `else` und den Vergleichsoperatoren, kannst du in einem Programm Entscheidungen treffen\n",
    "* Mit `if` stellst du eine Bedingung\n",
    "* Mit `elif` und `else` kannst du reagieren, sollte diese Bedingung nicht eintreffen\n",
    "* Es werden die gleichen Vergleichsoperatoren verwendet, welche wir bereits vorhin angeschaut haben:\n",
    "    * `==` gleich\n",
    "    * `!=` nicht gleich\n",
    "    * `<` kleiner\n",
    "    * `>` grösser\n",
    "* **Achtung:** Nach dem Doppelpunkt muss der dem Statement unterliegende Code Block mit einem Tab eingerückt sein\n",
    "\n",
    "### Beispiel"
   ],
   "metadata": {}
  },
  {
   "cell_type": "code",
   "execution_count": 3,
   "source": [],
   "outputs": [
    {
     "output_type": "stream",
     "name": "stdout",
     "text": [
      "Von beidem gleichviel\n"
     ]
    }
   ],
   "metadata": {}
  },
  {
   "cell_type": "markdown",
   "source": [
    "### Logische Operatoren\n",
    "\n",
    "* im `if` und `elif` Statement können auch mehrere Bedingungen verknüpft werden. Dazu werden logische Operatoren verwendet\n",
    "    * `and` UND-Verknüpung, alle Bedingungen müssen erfüllt sein\n",
    "    * `or` OR-Verknüpfung, mindestens eine Bedingung muss erfüllt sein\n",
    "    * `not` Negation, Verneinung\n",
    "    \n",
    "### Beispiel\n"
   ],
   "metadata": {}
  },
  {
   "cell_type": "code",
   "execution_count": 6,
   "source": [],
   "outputs": [
    {
     "output_type": "stream",
     "name": "stdout",
     "text": [
      "False\n"
     ]
    }
   ],
   "metadata": {}
  },
  {
   "cell_type": "markdown",
   "source": [
    "### Übung 1\n",
    "Erstelle ein Programm, welches den User nach einer Zahl fragt und diese in eine Variabel speichert. Verwende das Python Modul `random` um eine Zufallszahl zu erzeugen.\n",
    "\n",
    "```python\n",
    "import random\n",
    "\n",
    "# creates a random number between 1 and 100\n",
    "random_number = random.randrange(1,100)\n",
    "\n",
    "```\n",
    "\n",
    "Überprüfe nun, ob die Zahl grösser, kleiner, gleich oder nicht innerhlb des Ranges ist\n",
    "\n"
   ],
   "metadata": {}
  },
  {
   "cell_type": "code",
   "execution_count": 11,
   "source": [],
   "outputs": [
    {
     "output_type": "stream",
     "name": "stdout",
     "text": [
      "30\n"
     ]
    }
   ],
   "metadata": {}
  }
 ],
 "metadata": {
  "kernelspec": {
   "display_name": "Python 3",
   "language": "python",
   "name": "python3"
  },
  "language_info": {
   "codemirror_mode": {
    "name": "ipython",
    "version": 3
   },
   "file_extension": ".py",
   "mimetype": "text/x-python",
   "name": "python",
   "nbconvert_exporter": "python",
   "pygments_lexer": "ipython3",
   "version": "3.9.2"
  }
 },
 "nbformat": 4,
 "nbformat_minor": 4
}