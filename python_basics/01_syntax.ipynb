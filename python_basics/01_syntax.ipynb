{
 "cells": [
  {
   "cell_type": "markdown",
   "source": [
    "# 01 - Syntax\n"
   ],
   "metadata": {}
  },
  {
   "cell_type": "markdown",
   "source": [
    "## Output - print()\n",
    "\n",
    "Die Built-in Funktion `print()` ist der einfachste Weg in Python, um einen Output zu generieren.\n",
    "\n",
    "### Beispiel"
   ],
   "metadata": {}
  },
  {
   "cell_type": "code",
   "execution_count": null,
   "source": [],
   "outputs": [],
   "metadata": {}
  },
  {
   "cell_type": "markdown",
   "source": [
    "## Datentypen\n",
    "\n",
    "* Integer `<int>`\n",
    "    * `-4`, `21`, `343263545234242`\n",
    "* Float `<float>`\n",
    "    * `-2342.53`, `3.141592653589793`, `112.0`\n",
    "* Boolean `<bool>`\n",
    "    * `True` und  `False`\n",
    "* String `<str>`\n",
    "    * `\"abcd\"`, `\"g\"`, `'Sonne'`, `'Es regnet doch'` \n",
    "    * Es spielt keine Rolle, ob du `\"...\"` oder `'...'` verwendest. Python interpretiert beides als String\n",
    "\n",
    "### Beispiel"
   ],
   "metadata": {}
  },
  {
   "cell_type": "code",
   "execution_count": null,
   "source": [],
   "outputs": [],
   "metadata": {}
  },
  {
   "cell_type": "markdown",
   "source": [
    "## Variablen\n",
    "\n",
    "* Eine Variabel ist ein Name, welchem du einen Wert zuweist\n",
    "* Auf diesen Wert kannst du mit Hilfe des Namens in deinem Programm zugreifen\n",
    "* Der Wert kann verändert werden\n",
    "* In Python musst du den Datentyp einer Variabel **nicht** definieren!\n",
    "* Variablen Namen sind klein geschrieben\n",
    "* Besteht ein Variablen Name aus mehreren Wörteren, werden diese mit einem `_` getrennt (Snake Case)\n",
    "\n",
    "### Beispiel"
   ],
   "metadata": {}
  },
  {
   "cell_type": "code",
   "execution_count": null,
   "source": [],
   "outputs": [],
   "metadata": {}
  },
  {
   "cell_type": "markdown",
   "source": [
    "### Übung 1\n",
    "\n",
    "Wer bist du? Erstelle dazu verschiedene Variablen wie `first_name`, `last_name`, `city` usw. und verwende möglichst alle Datentypen (String, Integer, Float, Boolean)\n",
    "\n",
    "Printe die von dir erstellten Variablen anschliessend aus."
   ],
   "metadata": {}
  },
  {
   "cell_type": "code",
   "execution_count": null,
   "source": [
    "# Insert code here"
   ],
   "outputs": [],
   "metadata": {}
  },
  {
   "cell_type": "markdown",
   "source": [
    "## Strings\n",
    "\n",
    "### Mehrzeilige Strings\n",
    "\n",
    "* Es ist in Python möglich, mit längeren (mehrzeiligen) Texten zu arbeite\n",
    "* Dazu verwende `''' ... '''` bzw. `\"\"\" ... \"\"\"`\n",
    "\n",
    "### Beispiel Mehrzeilige Strings\n"
   ],
   "metadata": {}
  },
  {
   "cell_type": "code",
   "execution_count": null,
   "source": [],
   "outputs": [],
   "metadata": {}
  },
  {
   "cell_type": "markdown",
   "source": [
    "### f-Strings\n",
    "\n",
    "* f-String steht für \"formate String\"\n",
    "* Ist ein String als f-String gekennzeichnet, können wir Variablen in einen Text direkt einbinden\n",
    "* f-Strings gibt es erst ab Python Version 3\n",
    "\n",
    "### Beispiel f-String\n"
   ],
   "metadata": {}
  },
  {
   "cell_type": "code",
   "execution_count": null,
   "source": [],
   "outputs": [],
   "metadata": {}
  },
  {
   "cell_type": "markdown",
   "source": [
    "### Übung 2\n",
    "\n",
    "Verwende die in Übung 1 erstellten Variablen und verpacke diese in einen mehrzeiligen Text mit der Hilfe von f-String"
   ],
   "metadata": {}
  },
  {
   "cell_type": "code",
   "execution_count": null,
   "source": [
    "# Insert code here"
   ],
   "outputs": [],
   "metadata": {}
  },
  {
   "cell_type": "markdown",
   "source": [
    "## Operatoren\n",
    "\n",
    "* Mit Operatoren können Berechnungen oder Vergleiche gemacht werden\n",
    "* Berechungen:\n",
    "    * `+` Addition\n",
    "    * `-` Subtraktion\n",
    "    * `/` Division\n",
    "    * `*` Multiplikation\n",
    "    * `%` Modulo\n",
    "    * `**` Potenz\n",
    "* Vergleiche:\n",
    "    * `==` gleich\n",
    "    * `!=` nicht gleich\n",
    "    * `<` kleiner\n",
    "    * `>` grösser\n",
    "\n",
    "    \n",
    "### Beispiel"
   ],
   "metadata": {}
  },
  {
   "cell_type": "code",
   "execution_count": null,
   "source": [],
   "outputs": [],
   "metadata": {}
  },
  {
   "cell_type": "markdown",
   "source": [
    "### Übung 3\n",
    "\n",
    "Erstelle einige Variablen mit Zahlen und führe verschiedene Berechnungen und Vergleiche durch.\n",
    "\n",
    "```python\n",
    "cats = 100\n",
    "dogs = 20\n",
    "dog_daily_food = 1231\n",
    "\n",
    "dogs_daily_total_food = dogs * dog_daily_food\n",
    "\n",
    "...\n",
    "```"
   ],
   "metadata": {}
  },
  {
   "cell_type": "code",
   "execution_count": null,
   "source": [
    "# Insert code here"
   ],
   "outputs": [],
   "metadata": {}
  },
  {
   "cell_type": "markdown",
   "source": [
    "## Input - input()\n",
    "\n",
    "* Mit `print()` können wir einen Output generieren\n",
    "* Mit der Built-in Funktion `insert()` können wir vom User einen Input erzwingen\n",
    "* Das Programm wird erst fortgesetzt, wenn ein Input erfolgt ist\n",
    "\n",
    "### Beispiel"
   ],
   "metadata": {}
  },
  {
   "cell_type": "code",
   "execution_count": 7,
   "source": [
    "\n"
   ],
   "outputs": [
    {
     "output_type": "stream",
     "name": "stdout",
     "text": [
      "Wie heisst du?:\n",
      "> hans\n",
      "Hallo hans, freut micht dich kennen zu lernen!\n"
     ]
    }
   ],
   "metadata": {}
  },
  {
   "cell_type": "markdown",
   "source": [
    "### Übung 4\n",
    "\n",
    "Frage den User nach seinem Namen, Alter, Hobby und Wohnort. Speichere die Antworten jeweils in Variablen und printe diese mit der Hilfe eines f-Strings in Form eines Textes wieder aus."
   ],
   "metadata": {}
  },
  {
   "cell_type": "code",
   "execution_count": null,
   "source": [
    "# Insert code here"
   ],
   "outputs": [],
   "metadata": {}
  },
  {
   "cell_type": "markdown",
   "source": [
    "### Übung 5\n",
    "Frage den User nach zwei Zahlen und Multipliziere diese miteinander und gib das Result wieder aus."
   ],
   "metadata": {}
  },
  {
   "cell_type": "code",
   "execution_count": null,
   "source": [
    "# Insert code here"
   ],
   "outputs": [],
   "metadata": {}
  }
 ],
 "metadata": {
  "kernelspec": {
   "display_name": "Python 3",
   "language": "python",
   "name": "python3"
  },
  "language_info": {
   "codemirror_mode": {
    "name": "ipython",
    "version": 3
   },
   "file_extension": ".py",
   "mimetype": "text/x-python",
   "name": "python",
   "nbconvert_exporter": "python",
   "pygments_lexer": "ipython3",
   "version": "3.9.5"
  }
 },
 "nbformat": 4,
 "nbformat_minor": 4
}