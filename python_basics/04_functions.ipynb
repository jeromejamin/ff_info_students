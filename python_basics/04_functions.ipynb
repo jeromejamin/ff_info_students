{
 "cells": [
  {
   "cell_type": "markdown",
   "source": [
    "# 04 - Functions"
   ],
   "metadata": {}
  },
  {
   "cell_type": "markdown",
   "source": [
    "* Funktionen unterteilen dein Programm in Teilprogramme\n",
    "* Das hilft dir dabei, deinen Code zu strukturieren und Wiederholungen zu verhindern\n",
    "* Beispiel: `def useless_function(argument_one, argument_two):`\n",
    "    * Mit `def` wird eine Funktion eingeleitet\n",
    "    * Der Funktionsname besteht aus mindestens einem Wort, wenn mehrere Wörter verwendet werden, benutze ein `_`\n",
    "    * In den Klammern werden Argumente übergeben, welche die Funktion verwenden darf\n",
    "    * Der auszuführende Code wird mit einem Tab (4 Spaces) eingerückt\n",
    "\n",
    "### Beispiel"
   ],
   "metadata": {}
  },
  {
   "cell_type": "code",
   "execution_count": null,
   "source": [],
   "outputs": [],
   "metadata": {}
  },
  {
   "cell_type": "markdown",
   "source": [
    "## Funktionsaufruf\n",
    "* Eine Funktion muss explizit aufgerufen werden\n",
    "* Ansonsten bleibt der Code \"unberührt\"\n",
    "* **Achtung** Die Funktion muss vor dem Funktionsaufruf definiert werden!\n",
    "\n",
    "### Beispiel"
   ],
   "metadata": {}
  },
  {
   "cell_type": "code",
   "execution_count": null,
   "source": [],
   "outputs": [],
   "metadata": {}
  },
  {
   "cell_type": "markdown",
   "source": [
    "## Return Value\n",
    "\n",
    "* Einer Funkton können nicht nur Werte übergeben werden (Argumente), sondern sie kann auch ein Resultat zurückgeben\n",
    "* Dazu wird das Keyword `return` verwendet\n",
    "\n",
    "### Beispiel"
   ],
   "metadata": {}
  },
  {
   "cell_type": "code",
   "execution_count": null,
   "source": [],
   "outputs": [],
   "metadata": {}
  },
  {
   "cell_type": "code",
   "execution_count": null,
   "source": [
    "\n"
   ],
   "outputs": [],
   "metadata": {}
  },
  {
   "cell_type": "markdown",
   "source": [
    "## Übung 1"
   ],
   "metadata": {}
  },
  {
   "cell_type": "markdown",
   "source": [
    "* Nimm das Programm Übung 1 aus `03_while-loop`\n",
    "* Lagere die Überprüfung, ob der User Input er Zufallszahl entspricht, in eine Funktion aus\n",
    "* Sind die beiden Zahlen gleich, wird `True` zurückgegeben. Ansonsten `False`\n",
    "* Passe den die Infos für den User entsprechend an. Es wird nun nur noch informiert, ob er richtig oder falsch liegt\n"
   ],
   "metadata": {}
  },
  {
   "cell_type": "code",
   "execution_count": null,
   "source": [
    "# Insert code here\n",
    "\n",
    "\n",
    "  "
   ],
   "outputs": [],
   "metadata": {}
  }
 ],
 "metadata": {
  "kernelspec": {
   "display_name": "Python 3",
   "language": "python",
   "name": "python3"
  },
  "language_info": {
   "codemirror_mode": {
    "name": "ipython",
    "version": 3
   },
   "file_extension": ".py",
   "mimetype": "text/x-python",
   "name": "python",
   "nbconvert_exporter": "python",
   "pygments_lexer": "ipython3",
   "version": "3.9.2"
  }
 },
 "nbformat": 4,
 "nbformat_minor": 4
}