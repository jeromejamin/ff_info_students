{
 "cells": [
  {
   "cell_type": "markdown",
   "source": [
    "# 03 - While Loop"
   ],
   "metadata": {}
  },
  {
   "cell_type": "markdown",
   "source": [
    "* Loops helfen dir beim Programmieren gewisse Code Blöcke eine bestimmte Zeit lang auszuführen\n",
    "* Der `while` Loop zum Beispiel wird solange ausfeführt, bis die vorher definierte Bedingung nicht mehr zutrifft, also von `True` auf `False` wechselt\n",
    "* Für das Überprüfen der Bedingung(en) kannst die in Kapitl 02-Decisions kennengelernten Vergelichsoperatoren verwenden\n",
    "\n",
    "\n",
    "### Beispiel\n"
   ],
   "metadata": {}
  },
  {
   "cell_type": "code",
   "execution_count": null,
   "source": [],
   "outputs": [],
   "metadata": {}
  },
  {
   "cell_type": "markdown",
   "source": [
    "## Endless Loop\n",
    "\n",
    "* Bei `while` Loops kann es schnell mal einen Endless Loop geben, wenn die Bedingung nicht richtig überprüft wird\n",
    "* Ein Endless Loop führt zu einem Programmabsturz\n",
    "* Kann verhindert werden, wenn die Überprüfung sauber gemacht wird\n",
    "\n",
    "### Beispiel Endless Loop"
   ],
   "metadata": {}
  },
  {
   "cell_type": "code",
   "execution_count": null,
   "source": [],
   "outputs": [],
   "metadata": {}
  },
  {
   "cell_type": "markdown",
   "source": [
    "### Beispiel \"bewusste\" Überprüfung\n",
    "* Weise einer Variabel den Wert `False` zu: `done = False`\n",
    "* Setze diese Variabel invertiert als Bedingung: `while not done:`\n",
    "* Überprüfe innerhalb der `while` Schlaufe, ob du die Schlaufe beenden kannst. Trifft dies zu, setze die Variabel  auf `True`\n",
    "* Die Schlaufe wird nun verlassen"
   ],
   "metadata": {}
  },
  {
   "cell_type": "code",
   "execution_count": null,
   "source": [
    "\n"
   ],
   "outputs": [],
   "metadata": {}
  },
  {
   "cell_type": "code",
   "execution_count": null,
   "source": [
    "\n"
   ],
   "outputs": [],
   "metadata": {}
  },
  {
   "cell_type": "markdown",
   "source": [
    "## Übung 1\n",
    "\n",
    "* Nimm das Programm Übung 1 aus `02_decisions` und verpacke dieses in einen `while` Loop\n",
    "* Der `while` Loop soll solange laufen, bis der User die richtige Zahl erraten hat\n",
    "* Stimmt die Zahl nicht, soll dem User mitgeteilt werden, ob seine Zahl grösser oder kleiner als die richtige Zahl ist"
   ],
   "metadata": {}
  },
  {
   "cell_type": "code",
   "execution_count": null,
   "source": [],
   "outputs": [],
   "metadata": {}
  }
 ],
 "metadata": {
  "kernelspec": {
   "display_name": "Python 3",
   "language": "python",
   "name": "python3"
  },
  "language_info": {
   "codemirror_mode": {
    "name": "ipython",
    "version": 3
   },
   "file_extension": ".py",
   "mimetype": "text/x-python",
   "name": "python",
   "nbconvert_exporter": "python",
   "pygments_lexer": "ipython3",
   "version": "3.9.2"
  }
 },
 "nbformat": 4,
 "nbformat_minor": 4
}